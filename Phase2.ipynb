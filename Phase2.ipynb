{
 "cells": [
  {
   "cell_type": "code",
   "execution_count": 2,
   "metadata": {},
   "outputs": [],
   "source": [
    "import pandas as pd\n",
    "import numpy as np\n",
    "import matplotlib.pyplot as plt\n",
    "import matplotlib.mlab as mlab\n",
    "\n",
    "\n",
    "#import csv and change column names\n",
    "columns = ['ID', 'A2','A3', 'A4', 'A5', 'A6', 'A7', 'A8', 'A9', 'A10', 'CLASS']\n",
    "df = pd.read_csv(\"wisconsinbreastcancer.txt\", sep=',', names=columns)\n",
    "df['A7']=df['A7'].replace('?',np.NaN)\n",
    "\n",
    "#convert back to numeric\n",
    "df['A7'] = pd.to_numeric(df['A7'], errors='coerce')\n",
    "\n",
    "#•Report how many NaN.\n",
    "countNaN=df['A7'].isnull().sum()\n",
    "\n",
    "\n",
    "#change values of NaN to mean\n",
    "df['A7'] = df['A7'].fillna((df['A7'].mean()))\n",
    "\n",
    "df = df.astype(int)"
   ]
  },
  {
   "cell_type": "code",
   "execution_count": 49,
   "metadata": {},
   "outputs": [
    {
     "data": {
      "text/html": [
       "<div>\n",
       "<style scoped>\n",
       "    .dataframe tbody tr th:only-of-type {\n",
       "        vertical-align: middle;\n",
       "    }\n",
       "\n",
       "    .dataframe tbody tr th {\n",
       "        vertical-align: top;\n",
       "    }\n",
       "\n",
       "    .dataframe thead th {\n",
       "        text-align: right;\n",
       "    }\n",
       "</style>\n",
       "<table border=\"1\" class=\"dataframe\">\n",
       "  <thead>\n",
       "    <tr style=\"text-align: right;\">\n",
       "      <th></th>\n",
       "      <th>A2</th>\n",
       "      <th>A3</th>\n",
       "      <th>A4</th>\n",
       "      <th>A5</th>\n",
       "      <th>A6</th>\n",
       "      <th>A7</th>\n",
       "      <th>A8</th>\n",
       "      <th>A9</th>\n",
       "      <th>A10</th>\n",
       "    </tr>\n",
       "  </thead>\n",
       "  <tbody>\n",
       "    <tr>\n",
       "      <th>0</th>\n",
       "      <td>5</td>\n",
       "      <td>1</td>\n",
       "      <td>1</td>\n",
       "      <td>1</td>\n",
       "      <td>2</td>\n",
       "      <td>1</td>\n",
       "      <td>3</td>\n",
       "      <td>1</td>\n",
       "      <td>1</td>\n",
       "    </tr>\n",
       "    <tr>\n",
       "      <th>1</th>\n",
       "      <td>5</td>\n",
       "      <td>4</td>\n",
       "      <td>4</td>\n",
       "      <td>5</td>\n",
       "      <td>7</td>\n",
       "      <td>10</td>\n",
       "      <td>3</td>\n",
       "      <td>2</td>\n",
       "      <td>1</td>\n",
       "    </tr>\n",
       "    <tr>\n",
       "      <th>2</th>\n",
       "      <td>3</td>\n",
       "      <td>1</td>\n",
       "      <td>1</td>\n",
       "      <td>1</td>\n",
       "      <td>2</td>\n",
       "      <td>2</td>\n",
       "      <td>3</td>\n",
       "      <td>1</td>\n",
       "      <td>1</td>\n",
       "    </tr>\n",
       "    <tr>\n",
       "      <th>3</th>\n",
       "      <td>6</td>\n",
       "      <td>8</td>\n",
       "      <td>8</td>\n",
       "      <td>1</td>\n",
       "      <td>3</td>\n",
       "      <td>4</td>\n",
       "      <td>3</td>\n",
       "      <td>7</td>\n",
       "      <td>1</td>\n",
       "    </tr>\n",
       "    <tr>\n",
       "      <th>4</th>\n",
       "      <td>4</td>\n",
       "      <td>1</td>\n",
       "      <td>1</td>\n",
       "      <td>3</td>\n",
       "      <td>2</td>\n",
       "      <td>1</td>\n",
       "      <td>3</td>\n",
       "      <td>1</td>\n",
       "      <td>1</td>\n",
       "    </tr>\n",
       "  </tbody>\n",
       "</table>\n",
       "</div>"
      ],
      "text/plain": [
       "   A2  A3  A4  A5  A6  A7  A8  A9  A10\n",
       "0   5   1   1   1   2   1   3   1    1\n",
       "1   5   4   4   5   7  10   3   2    1\n",
       "2   3   1   1   1   2   2   3   1    1\n",
       "3   6   8   8   1   3   4   3   7    1\n",
       "4   4   1   1   3   2   1   3   1    1"
      ]
     },
     "execution_count": 49,
     "metadata": {},
     "output_type": "execute_result"
    }
   ],
   "source": [
    "#use only columns A2-A10\n",
    "df1=df.drop([\"ID\",\"CLASS\"],axis=1)\n",
    "df1.head()"
   ]
  },
  {
   "cell_type": "code",
   "execution_count": 4,
   "metadata": {},
   "outputs": [
    {
     "name": "stdout",
     "output_type": "stream",
     "text": [
      "[1 3 1 0 1 2 1 1 1 1 1 1 1 1 2 0 1 1 3 1 3 0 1 0 1 3 1 1 1 1 1 1 0 1 1 1 0\n",
      " 1 3 3 0 0 2 0 0 1 3 1 1 0 0 1 0 2 3 0 0 0 3 0 0 1 0 0 1 0 1 3 2 1 1 0 1 3\n",
      " 0 1 1 1 1 1 1 1 1 1 2 0 3 2 1 1 1 1 1 1 1 1 1 1 0 2 0 1 1 1 2 1 3 2 1 3 1\n",
      " 3 3 2 1 1 1 2 1 1 1 1 2 3 2 1 3 1 3 1 1 1 2 1 1 1 1 1 1 1 1 1 3 1 1 1 3 1\n",
      " 1 2 1 3 0 1 1 3 1 1 1 2 3 1 1 1 1 1 2 0 1 1 1 1 1 2 3 2 1 0 1 3 1 1 1 2 3\n",
      " 1 2 2 2 1 2 2 1 1 1 1 3 1 1 1 2 3 1 1 1 2 0 1 1 1 2 2 1 2 2 0 1 1 0 1 1 2\n",
      " 1 3 3 1 3 0 1 2 3 2 0 3 1 1 2 0 2 3 1 1 1 1 1 1 2 3 1 1 1 3 3 2 0 3 1 1 1\n",
      " 3 3 2 2 3 0 1 3 3 0 1 3 1 3 1 1 1 1 1 1 3 1 1 3 3 3 2 2 1 0 2 1 1 0 3 1 3\n",
      " 0 1 1 3 0 1 2 1 3 3 1 1 0 1 1 1 0 1 1 0 3 2 1 3 3 1 1 3 1 1 3 1 0 3 3 1 1\n",
      " 3 3 1 3 1 1 3 3 1 1 1 2 1 1 1 0 3 1 1 0 2 1 1 1 2 0 3 2 3 1 1 1 1 2 2 1 1\n",
      " 1 1 1 1 1 1 1 1 1 1 1 3 1 1 1 1 3 1 1 1 1 2 1 1 1 1 1 1 1 1 2 1 1 1 1 1 1\n",
      " 1 1 1 1 1 0 1 3 1 3 1 1 1 1 2 1 1 1 2 1 0 1 1 1 1 1 1 3 3 0 1 1 1 3 1 1 1\n",
      " 1 1 1 1 1 2 1 1 1 2 1 1 3 0 1 1 1 1 1 1 1 0 3 3 1 1 1 1 1 1 1 1 1 1 1 2 1\n",
      " 1 2 2 1 1 1 2 0 1 1 3 1 2 3 1 1 1 1 1 1 1 1 1 1 1 2 1 1 1 1 1 1 1 2 2 1 1\n",
      " 1 3 1 1 3 3 1 1 1 1 1 1 3 1 1 1 1 1 1 1 1 1 1 1 1 1 1 1 2 1 1 0 1 1 1 1 1\n",
      " 1 1 1 1 1 1 1 1 1 1 2 1 1 3 2 3 2 1 1 0 1 1 1 1 1 1 2 2 1 1 1 2 1 0 1 0 3\n",
      " 3 1 3 1 1 1 1 1 1 1 1 0 3 0 1 1 2 1 3 0 2 1 1 1 1 1 1 1 1 1 1 1 1 1 0 1 1\n",
      " 1 1 1 1 0 1 1 0 1 1 1 1 1 1 1 1 1 1 1 2 1 1 1 1 1 1 1 1 0 3 1 1 1 1 1 1 1\n",
      " 1 1 0 2 2 1 1 1 1 1 1 1 1 1 2 2 1 1 1 1 1 1 1 1 1 0 1 1 1 1 0 0 0]\n"
     ]
    }
   ],
   "source": [
    "#import KMeans - use sklearn.cluster create KMeans model for n_cluster = 4\n",
    "\n",
    "from sklearn.cluster import KMeans\n",
    "km = KMeans(n_clusters=4)\n",
    "\n",
    "#fit model to your data\n",
    "km.fit(df1)\n",
    "x=km.fit_predict(df1)\n",
    "print(x)"
   ]
  },
  {
   "cell_type": "code",
   "execution_count": 5,
   "metadata": {},
   "outputs": [
    {
     "name": "stdout",
     "output_type": "stream",
     "text": [
      "[[7.46478873 7.02816901 6.67605634 4.1971831  5.53521127 3.42253521\n",
      "  5.38028169 6.81690141 2.30985915]\n",
      " [2.94493392 1.24449339 1.36563877 1.29295154 2.03964758 1.33700441\n",
      "  2.06167401 1.20044053 1.07709251]\n",
      " [6.7625     8.3875     8.425      7.75       6.775      9.2125\n",
      "  7.375      7.7375     3.7875    ]\n",
      " [7.23404255 4.85106383 5.04255319 4.86170213 4.11702128 9.38297872\n",
      "  5.26595745 3.78723404 1.64893617]]\n"
     ]
    }
   ],
   "source": [
    "#calculate centroids\n",
    "\n",
    "centroids = km.cluster_centers_\n",
    "\n",
    "#print centroids \n",
    "print(centroids)"
   ]
  },
  {
   "cell_type": "code",
   "execution_count": 14,
   "metadata": {},
   "outputs": [
    {
     "data": {
      "image/png": "[encoded data removed]",
      "text/plain": [
       "<Figure size 432x288 with 1 Axes>"
      ]
     },
     "metadata": {},
     "output_type": "display_data"
    },
    {
     "name": "stdout",
     "output_type": "stream",
     "text": [
      "The elbow point is at 2, so the optimal number of clusters is 2.\n"
     ]
    }
   ],
   "source": [
    "#create a range from 1 to 15 or more\n",
    "ks = range(1, 15)\n",
    "\n",
    "#create an empty list for inertias values \n",
    "inertias = []\n",
    "\n",
    "#use for loop to calculate KMeans for each values\n",
    "for k in ks:\n",
    "    km = KMeans(n_clusters=k)\n",
    "    km=km.fit(df1)\n",
    "    inertias.append(km.inertia_)\n",
    "     \n",
    "\n",
    "# Plot ks vs inertias\n",
    "plt.plot(ks, inertias, 'bx-')\n",
    "plt.xlabel('number of clusters, k')\n",
    "plt.ylabel('inertia')\n",
    "plt.title('Elbow Method For Optimal k')\n",
    "plt.xticks(ks)\n",
    "plt.show()\n",
    "\n",
    "print(\"The elbow point is at 2, so the optimal number of clusters is 2.\")"
   ]
  },
  {
   "cell_type": "code",
   "execution_count": 52,
   "metadata": {},
   "outputs": [
    {
     "name": "stdout",
     "output_type": "stream",
     "text": [
      "     Stan Dev\n",
      "A2        2.8\n",
      "A3        3.1\n",
      "A4        3.0\n",
      "A5        2.9\n",
      "A6        2.2\n",
      "A7        3.6\n",
      "A8        2.4\n",
      "A9        3.1\n",
      "A10       1.7\n"
     ]
    }
   ],
   "source": [
    "stat_tab = pd.DataFrame()\n",
    "#Calc sd and fill\n",
    "sd_col = (df1.std())\n",
    "stat_tab['Stan Dev'] = round(sd_col,1)\n",
    "print(stat_tab)"
   ]
  },
  {
   "cell_type": "code",
   "execution_count": 55,
   "metadata": {},
   "outputs": [
    {
     "data": {
      "text/plain": [
       "<matplotlib.axes._subplots.AxesSubplot at 0x23527682550>"
      ]
     },
     "execution_count": 55,
     "metadata": {},
     "output_type": "execute_result"
    },
    {
     "data": {
      "image/png": "[encoded data removed]",
      "text/plain": [
       "<Figure size 432x288 with 1 Axes>"
      ]
     },
     "metadata": {},
     "output_type": "display_data"
    }
   ],
   "source": [
    "color = dict(boxes='DarkGreen', whiskers='DarkOrange', medians='DarkBlue', caps='Gray')\n",
    "stat_tab.plot(kind='box', color=color, sym='r+',title='Variation in column values')\n"
   ]
  },
  {
   "cell_type": "code",
   "execution_count": 60,
   "metadata": {},
   "outputs": [
    {
     "name": "stdout",
     "output_type": "stream",
     "text": [
      "[[-0.49242566 -0.60498902 -0.59950463 -0.51517139 -0.50979898 -0.57996368\n",
      "  -0.54338987 -0.52954512 -0.30384439]\n",
      " [ 0.98485132  1.20997804  1.19900927  1.03034277  1.01959796  1.15992736\n",
      "   1.08677975  1.05909024  0.60768878]]\n"
     ]
    }
   ],
   "source": [
    "#import make_pipeline and StandardScalar\n",
    "from sklearn.pipeline import make_pipeline \n",
    "from sklearn.preprocessing import StandardScaler\n",
    "\n",
    "# Create scaler: scaler\n",
    "scaler = StandardScaler()\n",
    "\n",
    "# Create KMeans instance: k\n",
    "k = KMeans(n_clusters=2)\n",
    "\n",
    "# Create pipeline: pipeline\n",
    "pipeline = make_pipeline(scaler, k)\n",
    "\n",
    "pipeline.fit(df1)\n",
    "centroids = k.cluster_centers_\n",
    "\n",
    "print(centroids)"
   ]
  },
  {
   "cell_type": "code",
   "execution_count": null,
   "metadata": {},
   "outputs": [],
   "source": []
  }
 ],
 "metadata": {
  "kernelspec": {
   "display_name": "Python 3",
   "language": "python",
   "name": "python3"
  },
  "language_info": {
   "codemirror_mode": {
    "name": "ipython",
    "version": 3
   },
   "file_extension": ".py",
   "mimetype": "text/x-python",
   "name": "python",
   "nbconvert_exporter": "python",
   "pygments_lexer": "ipython3",
   "version": "3.6.5"
  }
 },
 "nbformat": 4,
 "nbformat_minor": 2
}
